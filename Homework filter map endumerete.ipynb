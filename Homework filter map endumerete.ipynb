{
 "cells": [
  {
   "cell_type": "markdown",
   "id": "06609089",
   "metadata": {},
   "source": [
    "### Example usage of `my_map`:\n",
    "\n",
    "# Custom map"
   ]
  },
  {
   "cell_type": "code",
   "execution_count": 1,
   "id": "e6de9a84",
   "metadata": {},
   "outputs": [],
   "source": [
    "def my_map(func, iterable):\n",
    "    for item in iterable:\n",
    "        yield func(item)  # because map gives an iterator\n"
   ]
  },
  {
   "cell_type": "markdown",
   "id": "38692075",
   "metadata": {},
   "source": [
    "### Example usage of `my_filter`:\n",
    "\n",
    "# Custom filter\n"
   ]
  },
  {
   "cell_type": "code",
   "execution_count": 47,
   "id": "17d0a730",
   "metadata": {},
   "outputs": [],
   "source": [
    "def my_filter(func, iterable):\n",
    "    for item in iterable:\n",
    "        if func(item): # is True \n",
    "            yield item\n"
   ]
  },
  {
   "cell_type": "markdown",
   "id": "e2253b84",
   "metadata": {},
   "source": [
    "### Example usage of `my_enumerate`:\n",
    "\n",
    "# Custom enumerate\n"
   ]
  },
  {
   "cell_type": "code",
   "execution_count": 3,
   "id": "57e88944",
   "metadata": {},
   "outputs": [],
   "source": [
    "def my_enumerate(iterable, start=0):\n",
    "    index = start\n",
    "    for item in iterable:\n",
    "        yield index, item\n",
    "        index += 1\n"
   ]
  },
  {
   "cell_type": "code",
   "execution_count": 49,
   "id": "3da29ea3",
   "metadata": {
    "scrolled": true
   },
   "outputs": [
    {
     "name": "stdout",
     "output_type": "stream",
     "text": [
      "[2, 4, 6]\n",
      "[2, 4]\n",
      "[(100, 'apple'), (101, 'banana'), (102, 'cherry')]\n"
     ]
    }
   ],
   "source": [
    "# Custom map\n",
    "print(list(my_map(lambda x: x * 2, [1, 2, 3])))  # [2, 4, 6]\n",
    "\n",
    "# Custom filter\n",
    "print(list(my_filter(lambda x: x % 2 == 0, [1, 2, 3, 4])))  # [2, 4]\n",
    "\n",
    "# Custom enumerate\n",
    "print(list(my_enumerate(['apple', 'banana', 'cherry'], start=100)))  # [(0, 'apple'), (1, 'banana'), (2, 'cherry')]\n"
   ]
  },
  {
   "cell_type": "raw",
   "id": "cb15f8d2",
   "metadata": {},
   "source": [
    "Подготовка к МОК- Основы Python и синтаксис\n",
    "\n",
    "Что такое переменная в Python, и как её правильно объявлять ?\n",
    "\n",
    "В чем различие между списками, кортежами и множествами в Python? \n",
    "\n",
    "Что такое immutable и mutable объекты? Приведи примеры.\n",
    "\n",
    "Как работает оператор присваивания в Python?\n",
    "\n",
    "Объясните , что такое глобальные и локальные переменные в Python.\n",
    "\n",
    "Как работает оператор = в Python, и чем он отличается от оператора ==?\n",
    "\n",
    "Что такое строковые литералы , как их создавать и какие особенности у разных\n",
    "типов строк (например, многострочные строки)?\n",
    "\n",
    "Какие типы данных существуют в Python ? Приведи примеры их использования\n",
    "\n",
    "Как работают индексы в строках и списках в Python?\n",
    "\n",
    "В чем отличие между del и remove при работе со списками?"
   ]
  },
  {
   "cell_type": "markdown",
   "id": "24258a93",
   "metadata": {},
   "source": [
    "## Что такое переменная в Python, и как её правильно объявлять ?"
   ]
  },
  {
   "cell_type": "code",
   "execution_count": 56,
   "id": "82e234ae",
   "metadata": {},
   "outputs": [],
   "source": [
    "x = 10  # переменная x с целочисленным значением\n",
    "name = \"Alice\"  # переменная name со строкой\n",
    "\n",
    "# Имя переменной должно начинаться с буквы (a-z, A-Z) или символа подчеркивания _.\n",
    "# После первой буквы в имени переменной могут быть буквы, цифры (0-9) или подчеркивания.\n",
    "# Имя переменной не может быть ключевым словом (например, if, while, def, class и т.д.).\n",
    "# Регистр букв имеет значение, то есть переменные my_var и My_var — это разные переменные.\n",
    "\n",
    "# variable names are usually starting with the small letter \n",
    "# class names are usually starting with the Big letter \n",
    "# variamble name should make sense\n"
   ]
  },
  {
   "cell_type": "markdown",
   "id": "4e9c1775",
   "metadata": {},
   "source": [
    "## В чем различие между списками, кортежами и множествами в Python?"
   ]
  },
  {
   "cell_type": "code",
   "execution_count": 12,
   "id": "1b289eee",
   "metadata": {},
   "outputs": [],
   "source": [
    "# В Python списки, кортежи и множества — это коллекции, \n",
    "# но каждая из них имеет свои особенности и предназначение."
   ]
  },
  {
   "cell_type": "markdown",
   "id": "a9b6f961",
   "metadata": {},
   "source": [
    "## 1. Lists\n",
    "- **Type**: Mutable (modifiable)\n",
    "- **Syntax**: Defined with square brackets `[]`.\n",
    "- **Description**: Lists are ordered collections that allow duplicate elements. They are highly flexible and can hold items of various data types.\n",
    "- **Key Operations**: `append()`, `insert()`, `remove()`, `pop()`, `sort()`.\n",
    "- **Example**:"
   ]
  },
  {
   "cell_type": "code",
   "execution_count": 70,
   "id": "5d0e3cd6",
   "metadata": {},
   "outputs": [],
   "source": [
    "list1 = list()\n",
    "list2 = []"
   ]
  },
  {
   "cell_type": "code",
   "execution_count": 60,
   "id": "f6536a78",
   "metadata": {
    "scrolled": false
   },
   "outputs": [
    {
     "name": "stdout",
     "output_type": "stream",
     "text": [
      "[1, 2, 3, 4, 5]\n"
     ]
    }
   ],
   "source": [
    "# Example 1\n",
    "my_list = [1, 2, 3, 4]\n",
    "my_list.append(5)\n",
    "print(my_list)\n"
   ]
  },
  {
   "cell_type": "code",
   "execution_count": 59,
   "id": "721cf8aa",
   "metadata": {},
   "outputs": [
    {
     "name": "stdout",
     "output_type": "stream",
     "text": [
      "[1, 2, 4]\n"
     ]
    }
   ],
   "source": [
    "# Example 2\n",
    "my_list = [1, 2, 3, 4]\n",
    "my_list.pop(2)\n",
    "print(my_list)\n"
   ]
  },
  {
   "cell_type": "code",
   "execution_count": 77,
   "id": "869e5b19",
   "metadata": {},
   "outputs": [
    {
     "name": "stdout",
     "output_type": "stream",
     "text": [
      "[1, 2, 3, 4, 5, 6, 7, 8]\n"
     ]
    }
   ],
   "source": [
    "# Example 3\n",
    "lst1 = [1, 2, 3, 4]\n",
    "lst2 = [5, 6, 7, 8]\n",
    "result = lst1 + lst2\n",
    "\n",
    "print(result)\n"
   ]
  },
  {
   "cell_type": "code",
   "execution_count": 79,
   "id": "c8e9e8d3",
   "metadata": {},
   "outputs": [
    {
     "name": "stdout",
     "output_type": "stream",
     "text": [
      "[4, 3, 2, 1]\n"
     ]
    }
   ],
   "source": [
    "# Example 4\n",
    "my_list = [1, 2, 3, 4]\n",
    "reversed_lst = my_list[::-1]\n",
    "print(reversed_lst)\n"
   ]
  },
  {
   "cell_type": "code",
   "execution_count": 83,
   "id": "f5379893",
   "metadata": {},
   "outputs": [
    {
     "name": "stdout",
     "output_type": "stream",
     "text": [
      "[4, 3, 2, 1]\n"
     ]
    }
   ],
   "source": [
    "# Example 5\n",
    "my_list = [1, 2, 3, 4]\n",
    "reversed_lst = my_list[-1:-5:-1]\n",
    "print(reversed_lst)\n"
   ]
  },
  {
   "cell_type": "code",
   "execution_count": 89,
   "id": "cc18fbfd",
   "metadata": {},
   "outputs": [
    {
     "name": "stdout",
     "output_type": "stream",
     "text": [
      "2 2\n"
     ]
    }
   ],
   "source": [
    "# Example 6\n",
    "my_list = [1, 2, 3, 4]\n",
    "el2_positive = my_list[1]\n",
    "el2_negative = my_list[-3]\n",
    "\n",
    "print(el2_positive, el2_negative)\n"
   ]
  },
  {
   "cell_type": "code",
   "execution_count": 92,
   "id": "f6121db2",
   "metadata": {},
   "outputs": [
    {
     "name": "stdout",
     "output_type": "stream",
     "text": [
      "a z\n"
     ]
    }
   ],
   "source": [
    "# Example 7\n",
    "my_list1 = [1, ['a', 'b', 'c'], 3, 4]\n",
    "my_list2 = [1, ['a', 'b', [\"x\", \"y\", \"z\"]], 3, 4]\n",
    "\n",
    "result1 = my_list1[1][0]\n",
    "result2 = my_list2[-3][-1][-1]\n",
    "\n",
    "print(result1, result2)\n"
   ]
  },
  {
   "cell_type": "code",
   "execution_count": 63,
   "id": "fa08ec1a",
   "metadata": {},
   "outputs": [
    {
     "name": "stdout",
     "output_type": "stream",
     "text": [
      "Help on method_descriptor:\n",
      "\n",
      "sort(self, /, *, key=None, reverse=False)\n",
      "    Sort the list in ascending order and return None.\n",
      "    \n",
      "    The sort is in-place (i.e. the list itself is modified) and stable (i.e. the\n",
      "    order of two equal elements is maintained).\n",
      "    \n",
      "    If a key function is given, apply it once to each list item and sort them,\n",
      "    ascending or descending, according to their function values.\n",
      "    \n",
      "    The reverse flag can be set to sort in descending order.\n",
      "\n"
     ]
    }
   ],
   "source": [
    "help(list.sort)"
   ]
  },
  {
   "cell_type": "code",
   "execution_count": 67,
   "id": "a7c7ac51",
   "metadata": {},
   "outputs": [
    {
     "name": "stdout",
     "output_type": "stream",
     "text": [
      "None\n",
      "[1, 2, 3, 4]\n"
     ]
    }
   ],
   "source": [
    "# Example 3\n",
    "my_list = [2, 1, 3, 4]\n",
    "print(my_list.sort()) # returns None\n",
    "# my_list = my_list.sort() # same as my_list = None\n",
    "print(my_list)\n"
   ]
  },
  {
   "cell_type": "markdown",
   "id": "8668372a",
   "metadata": {},
   "source": [
    "## 2. Tuples\n",
    "- **Type**: Immutable (cannot be modified after creation)\n",
    "- **Syntax**: Defined with square brackets `()`.\n",
    "- **Description**: Tuples are similar to lists but are immutable, meaning their elements cannot be changed once defined. They are typically used to store data that should not be altered.\n",
    "- **Key Operations**: Tuple elements can be accessed via indexing but cannot be modified.\n",
    "- **Example**:"
   ]
  },
  {
   "cell_type": "code",
   "execution_count": 74,
   "id": "74ee243d",
   "metadata": {},
   "outputs": [],
   "source": [
    "tpl1 = tuple()\n",
    "tpl2 = ()"
   ]
  },
  {
   "cell_type": "code",
   "execution_count": 69,
   "id": "684dc0dc",
   "metadata": {},
   "outputs": [
    {
     "name": "stdout",
     "output_type": "stream",
     "text": [
      "1\n"
     ]
    }
   ],
   "source": [
    "my_tuple = (1, 2, 3)\n",
    "print(my_tuple[0])\n"
   ]
  },
  {
   "cell_type": "code",
   "execution_count": 88,
   "id": "fbdd4c8f",
   "metadata": {},
   "outputs": [
    {
     "name": "stdout",
     "output_type": "stream",
     "text": [
      "2\n"
     ]
    }
   ],
   "source": [
    "my_tuple = (1, 2, 3)\n",
    "print(my_tuple[-2])\n"
   ]
  },
  {
   "cell_type": "code",
   "execution_count": 94,
   "id": "9061df63",
   "metadata": {},
   "outputs": [
    {
     "name": "stdout",
     "output_type": "stream",
     "text": [
      "c y\n"
     ]
    }
   ],
   "source": [
    "tpl1 = (1, ('a', 'b', 'c'), 3, 4)\n",
    "tpl2 = (1, ['a', 'b', (\"x\", \"y\", \"z\")], 3, 4)\n",
    "\n",
    "result1 = tpl1[-3][-1]\n",
    "result2 = tpl2[1][2][1]\n",
    "\n",
    "print(result1, result2)"
   ]
  },
  {
   "cell_type": "code",
   "execution_count": 68,
   "id": "f64dc3d6",
   "metadata": {},
   "outputs": [
    {
     "name": "stdout",
     "output_type": "stream",
     "text": [
      "(1, [100, 2, 3], 2, 3)\n"
     ]
    }
   ],
   "source": [
    "my_tuple = (1, [1, 2, 3], 2, 3)\n",
    "my_tuple[1][0] = 100\n",
    "print(my_tuple)\n"
   ]
  },
  {
   "cell_type": "code",
   "execution_count": 85,
   "id": "d39cb862",
   "metadata": {},
   "outputs": [
    {
     "name": "stdout",
     "output_type": "stream",
     "text": [
      "(1, 2, 3, 4, 5, 6, 7, 8)\n"
     ]
    }
   ],
   "source": [
    "# Example 3\n",
    "tpl1 = (1, 2, 3, 4)\n",
    "tpl2 = (5, 6, 7, 8)\n",
    "result = tpl1 + tpl2\n",
    "\n",
    "print(result)\n"
   ]
  },
  {
   "cell_type": "code",
   "execution_count": 86,
   "id": "6ce3ffdd",
   "metadata": {},
   "outputs": [
    {
     "name": "stdout",
     "output_type": "stream",
     "text": [
      "(8, 7, 6, 5, 4, 3, 2, 1)\n"
     ]
    }
   ],
   "source": [
    "# Example 4\n",
    "tpl = (1, 2, 3, 4, 5, 6, 7, 8)\n",
    "reversed_tpl = tpl[::-1]\n",
    "print(reversed_tpl)\n"
   ]
  },
  {
   "cell_type": "code",
   "execution_count": 87,
   "id": "937af12d",
   "metadata": {},
   "outputs": [
    {
     "name": "stdout",
     "output_type": "stream",
     "text": [
      "(8, 7, 6, 5, 4, 3, 2, 1)\n"
     ]
    }
   ],
   "source": [
    "# Example 5\n",
    "tpl = (1, 2, 3, 4, 5, 6, 7, 8)\n",
    "reversed_tpl = tpl[-1:-9:-1]\n",
    "print(reversed_tpl)\n"
   ]
  },
  {
   "cell_type": "code",
   "execution_count": null,
   "id": "e4a362f3",
   "metadata": {},
   "outputs": [],
   "source": []
  },
  {
   "cell_type": "markdown",
   "id": "f34defbc",
   "metadata": {},
   "source": [
    "## 3. Sets\n",
    "- **Type**: Mutable, but contains only unique elements\n",
    "- **Syntax**: Defined with square brackets `{}`.\n",
    "- **Description**: Sets are unordered collections that cannot have duplicate elements. They are ideal for performing mathematical set operations like union, intersection, and difference.\n",
    "- **Key Operations**: `add(), remove(), union(), update(), intersection(), difference()`.\n",
    "- **Example**:"
   ]
  },
  {
   "cell_type": "code",
   "execution_count": 95,
   "id": "7b20057c",
   "metadata": {},
   "outputs": [
    {
     "name": "stdout",
     "output_type": "stream",
     "text": [
      "{1, 2, 3, 4, 5}\n"
     ]
    }
   ],
   "source": [
    "my_set = {1, 2, 3, 4}\n",
    "my_set.add(5)\n",
    "print(my_set)\n"
   ]
  },
  {
   "cell_type": "code",
   "execution_count": 97,
   "id": "1a22399c",
   "metadata": {},
   "outputs": [
    {
     "name": "stdout",
     "output_type": "stream",
     "text": [
      "{1, 2, 3, 4, 6, 10}\n"
     ]
    }
   ],
   "source": [
    "my_set = {1, 2, 3, 4}\n",
    "my_set = my_set.union({3, 6, 10})\n",
    "print(my_set)\n"
   ]
  },
  {
   "cell_type": "code",
   "execution_count": 99,
   "id": "3cc1f3a8",
   "metadata": {},
   "outputs": [
    {
     "name": "stdout",
     "output_type": "stream",
     "text": [
      "None\n",
      "{1, 2, 3, 4, 6, 10}\n"
     ]
    }
   ],
   "source": [
    "my_set = {1, 2, 3, 4}\n",
    "print(my_set.update({3, 6, 10})) # None\n",
    "print(my_set)\n"
   ]
  },
  {
   "cell_type": "code",
   "execution_count": 101,
   "id": "9ca95c90",
   "metadata": {},
   "outputs": [
    {
     "name": "stdout",
     "output_type": "stream",
     "text": [
      "{1, 4}\n",
      "{1, 4}\n"
     ]
    }
   ],
   "source": [
    "my_set1 = {1, 2, 3, 4}\n",
    "my_set2 = {1, 8, 7, 4}\n",
    "\n",
    "result = my_set1.intersection(my_set2)\n",
    "print(result)\n",
    "\n",
    "result = my_set1 & my_set2\n",
    "print(result)\n"
   ]
  },
  {
   "cell_type": "code",
   "execution_count": 102,
   "id": "dae8c477",
   "metadata": {},
   "outputs": [
    {
     "name": "stdout",
     "output_type": "stream",
     "text": [
      "{1, 2, 3, 4, 5}\n"
     ]
    }
   ],
   "source": [
    "list1 = [1, 2, 3, 3, 4, 5]\n",
    "result = set(list1)\n",
    "print(result)\n"
   ]
  },
  {
   "cell_type": "code",
   "execution_count": 111,
   "id": "9e150164",
   "metadata": {},
   "outputs": [
    {
     "name": "stdout",
     "output_type": "stream",
     "text": [
      "{1, 3, 4}\n",
      "{1, 3, 4}\n"
     ]
    }
   ],
   "source": [
    "my_set = {1, 2, 3, 4}\n",
    "my_set.remove(2)\n",
    "print(my_set)\n",
    "\n",
    "my_set.discard(2)\n",
    "print(my_set)\n"
   ]
  },
  {
   "cell_type": "markdown",
   "id": "b084351a",
   "metadata": {},
   "source": [
    "## 4. Dictionaries\n",
    "- **Type**: Mutable, stores key-value pairs\n",
    "- **Syntax**: Defined with square brackets `{}`and key-value pairs separated by a colon : (e.g., `{key: value}`).\n",
    "- **Description**: Dictionaries are unordered collections of key-value pairs. They allow fast access to values based on unique keys.\n",
    "- **Key Operations**: `get(), keys(), values(), items().`\n",
    "- **Example**:"
   ]
  },
  {
   "cell_type": "code",
   "execution_count": 108,
   "id": "ebb690ae",
   "metadata": {},
   "outputs": [
    {
     "name": "stdout",
     "output_type": "stream",
     "text": [
      "Alice\n",
      "dict_keys(['name', 'age'])\n",
      "dict_values(['Alice', 25])\n",
      "dict_items([('name', 'Alice'), ('age', 25)])\n"
     ]
    }
   ],
   "source": [
    "my_dict = {'name': 'Alice', 'age': 25}\n",
    "print(my_dict['name'])\n",
    "print(my_dict.keys())\n",
    "print(my_dict.values())\n",
    "print(my_dict.items())\n"
   ]
  },
  {
   "cell_type": "code",
   "execution_count": null,
   "id": "7adbe293",
   "metadata": {},
   "outputs": [],
   "source": []
  },
  {
   "cell_type": "code",
   "execution_count": 104,
   "id": "25363683",
   "metadata": {},
   "outputs": [
    {
     "name": "stdout",
     "output_type": "stream",
     "text": [
      "{frozenset({1, 2, 3}): {1, 2, 3}, (4, 5, 6): [4, 5, 6]}\n"
     ]
    }
   ],
   "source": [
    "my_dict = {frozenset((1, 2, 3)): {1, 2, 3}, (4, 5, 6): [4, 5, 6]}\n",
    "print(my_dict)\n"
   ]
  },
  {
   "cell_type": "code",
   "execution_count": 106,
   "id": "7b331b6a",
   "metadata": {},
   "outputs": [
    {
     "ename": "TypeError",
     "evalue": "unhashable type: 'set'",
     "output_type": "error",
     "traceback": [
      "\u001b[0;31m---------------------------------------------------------------------------\u001b[0m",
      "\u001b[0;31mTypeError\u001b[0m                                 Traceback (most recent call last)",
      "Cell \u001b[0;32mIn[106], line 1\u001b[0m\n\u001b[0;32m----> 1\u001b[0m my_dict \u001b[38;5;241m=\u001b[39m {{\u001b[38;5;241m1\u001b[39m, \u001b[38;5;241m2\u001b[39m, \u001b[38;5;241m3\u001b[39m}: \u001b[38;5;28mfrozenset\u001b[39m((\u001b[38;5;241m1\u001b[39m, \u001b[38;5;241m2\u001b[39m, \u001b[38;5;241m3\u001b[39m)), [\u001b[38;5;241m4\u001b[39m, \u001b[38;5;241m5\u001b[39m, \u001b[38;5;241m6\u001b[39m]: (\u001b[38;5;241m4\u001b[39m, \u001b[38;5;241m5\u001b[39m, \u001b[38;5;241m6\u001b[39m) }\n\u001b[1;32m      2\u001b[0m \u001b[38;5;28mprint\u001b[39m(my_dict)\n",
      "\u001b[0;31mTypeError\u001b[0m: unhashable type: 'set'"
     ]
    }
   ],
   "source": [
    "my_dict = {{1, 2, 3}: frozenset((1, 2, 3)), [4, 5, 6]: (4, 5, 6) }\n",
    "print(my_dict)\n"
   ]
  },
  {
   "cell_type": "code",
   "execution_count": 107,
   "id": "b92d6fe8",
   "metadata": {},
   "outputs": [
    {
     "ename": "TypeError",
     "evalue": "unhashable type: 'list'",
     "output_type": "error",
     "traceback": [
      "\u001b[0;31m---------------------------------------------------------------------------\u001b[0m",
      "\u001b[0;31mTypeError\u001b[0m                                 Traceback (most recent call last)",
      "Cell \u001b[0;32mIn[107], line 1\u001b[0m\n\u001b[0;32m----> 1\u001b[0m my_dict \u001b[38;5;241m=\u001b[39m {\u001b[38;5;28mfrozenset\u001b[39m((\u001b[38;5;241m1\u001b[39m, \u001b[38;5;241m2\u001b[39m, \u001b[38;5;241m3\u001b[39m)): {\u001b[38;5;241m1\u001b[39m, \u001b[38;5;241m2\u001b[39m, \u001b[38;5;241m3\u001b[39m}, (\u001b[38;5;241m4\u001b[39m, [\u001b[38;5;241m4\u001b[39m, \u001b[38;5;241m5\u001b[39m], \u001b[38;5;241m6\u001b[39m): [\u001b[38;5;241m4\u001b[39m, \u001b[38;5;241m5\u001b[39m, \u001b[38;5;241m6\u001b[39m]}\n\u001b[1;32m      2\u001b[0m \u001b[38;5;28mprint\u001b[39m(my_dict)\n",
      "\u001b[0;31mTypeError\u001b[0m: unhashable type: 'list'"
     ]
    }
   ],
   "source": [
    "my_dict = {frozenset((1, 2, 3)): {1, 2, 3}, (4, [4, 5], 6): [4, 5, 6]}\n",
    "print(my_dict)\n"
   ]
  },
  {
   "cell_type": "markdown",
   "id": "d716e799",
   "metadata": {},
   "source": [
    "## 5. String\n",
    "- **Type**: Immutable sequence of characters\n",
    "- **Syntax**: Defined with single ' or double quotes \".\n",
    "- **Description**: Strings in Python are sequences of characters that are immutable. They support a wide range of methods for text manipulation.\n",
    "- **Key Operations**: `lower(), upper(), split(), join(), replace().`\n",
    "- **Example**:"
   ]
  },
  {
   "cell_type": "code",
   "execution_count": 114,
   "id": "26c02d42",
   "metadata": {},
   "outputs": [
    {
     "name": "stdout",
     "output_type": "stream",
     "text": [
      "Help on method_descriptor:\n",
      "\n",
      "join(self, iterable, /)\n",
      "    Concatenate any number of strings.\n",
      "    \n",
      "    The string whose method is called is inserted in between each given string.\n",
      "    The result is returned as a new string.\n",
      "    \n",
      "    Example: '.'.join(['ab', 'pq', 'rs']) -> 'ab.pq.rs'\n",
      "\n"
     ]
    }
   ],
   "source": [
    "help(str.join)"
   ]
  },
  {
   "cell_type": "code",
   "execution_count": 21,
   "id": "9835ab3c",
   "metadata": {
    "scrolled": true
   },
   "outputs": [
    {
     "name": "stdout",
     "output_type": "stream",
     "text": [
      "hello, world!\n"
     ]
    }
   ],
   "source": [
    "my_string = \"Hello, World!\"\n",
    "print(my_string.lower())\n"
   ]
  },
  {
   "cell_type": "code",
   "execution_count": 118,
   "id": "a1ad3333",
   "metadata": {},
   "outputs": [
    {
     "name": "stdout",
     "output_type": "stream",
     "text": [
      "Hello,-^_^-World!Hello, World!Hello, World!Hello, World!Hello, World!\n"
     ]
    }
   ],
   "source": [
    "my_string = \"Hello, World!\"\n",
    "result = '-^_^-'.join((my_string * 5).split(maxsplit=1))\n",
    "print(result)\n"
   ]
  },
  {
   "cell_type": "markdown",
   "id": "8b8cfd22",
   "metadata": {},
   "source": [
    "## Что такое immutable и mutable объекты? Приведи примеры."
   ]
  },
  {
   "cell_type": "markdown",
   "id": "a0ca7fcb",
   "metadata": {},
   "source": [
    "## Неизменяемые и изменяемые объекты в Python\n",
    "\n",
    "В Python объекты делятся на **неизменяемые** и **изменяемые** в зависимости от того, можно ли изменять их содержимое после создания. Понимание различий между этими типами объектов важно, поскольку это влияет на управление данными и их обработку в Python.\n",
    "\n",
    "## 1. Неизменяемые объекты\n",
    "Неизменяемые объекты — это объекты, содержимое которых нельзя изменить после их создания. Если вы пытаетесь изменить содержимое такого объекта, Python создаст новый объект, а не изменит существующий.\n",
    "\n",
    "### Характеристики:\n",
    "- Не могут быть изменены после создания.\n",
    "- Любая операция, которая, кажется, изменяет объект, на самом деле создает новый объект.\n",
    "- Примеры: Числа (`int`, `float`), Строки (`str`), Кортежи (`tuple`), Множества frozenset (`frozenset`)."
   ]
  },
  {
   "cell_type": "code",
   "execution_count": 37,
   "id": "647c2ecb",
   "metadata": {},
   "outputs": [],
   "source": [
    "# Пример неизменяемого объекта - строка\n",
    "s1 = \"hello\"\n",
    "s2 = s1"
   ]
  },
  {
   "cell_type": "code",
   "execution_count": 38,
   "id": "3fe405c6",
   "metadata": {},
   "outputs": [
    {
     "name": "stdout",
     "output_type": "stream",
     "text": [
      "world\n",
      "hello\n"
     ]
    }
   ],
   "source": [
    "# Изменение строки (на самом деле создается новый объект строки)\n",
    "s1 = \"world\"\n",
    "\n",
    "print(s1)  # Выведет: \"world\"\n",
    "print(s2)  # Выведет: \"hello\""
   ]
  },
  {
   "cell_type": "markdown",
   "id": "de881d4a",
   "metadata": {},
   "source": [
    "## 2. Изменяемые объекты\n",
    "Изменяемые объекты — это объекты, содержимое которых можно изменять после их создания. Любое изменение изменяемого объекта происходит непосредственно в этом объекте, а не создается новый.\n",
    "\n",
    "### Характеристики:\n",
    "- Можно изменять после создания.\n",
    "- Изменение объекта происходит без создания нового.\n",
    "- Примеры: Списки (`list`), Словари (`dict`), Множества (`set`)."
   ]
  },
  {
   "cell_type": "code",
   "execution_count": 39,
   "id": "0bed41ce",
   "metadata": {},
   "outputs": [
    {
     "name": "stdout",
     "output_type": "stream",
     "text": [
      "[1, 2, 3, 4]\n"
     ]
    }
   ],
   "source": [
    "# Пример изменяемого объекта - список\n",
    "my_list = [1, 2, 3]\n",
    "my_list.append(4)  # Изменение списка\n",
    "\n",
    "print(my_list)  # Выведет: [1, 2, 3, 4]\n"
   ]
  },
  {
   "cell_type": "markdown",
   "id": "7dda8d97",
   "metadata": {},
   "source": [
    "## Как работает оператор присваивания в Python?"
   ]
  },
  {
   "cell_type": "markdown",
   "id": "6d5aded7",
   "metadata": {},
   "source": [
    "Принцип работы оператора присваивания:"
   ]
  },
  {
   "cell_type": "code",
   "execution_count": 23,
   "id": "b1cb17cf",
   "metadata": {},
   "outputs": [],
   "source": [
    "x = 10 \n",
    "# В Python переменные — это ссылки на объекты. \n",
    "# Например, когда вы присваиваете одну переменную другой, \n",
    "# вы фактически создаете ссылку на тот же объект, а не копируете объект."
   ]
  },
  {
   "cell_type": "code",
   "execution_count": 24,
   "id": "1c63bec5",
   "metadata": {},
   "outputs": [
    {
     "name": "stdout",
     "output_type": "stream",
     "text": [
      "5\n",
      "10\n"
     ]
    }
   ],
   "source": [
    "a = 5\n",
    "b = a  # переменная b теперь ссылается на тот же объект, что и a\n",
    "b = 10  # теперь b ссылается на новый объект, но a остается 5\n",
    "print(a)  # 5\n",
    "print(b)  # 10"
   ]
  },
  {
   "cell_type": "code",
   "execution_count": 25,
   "id": "0ec2d286",
   "metadata": {
    "scrolled": true
   },
   "outputs": [
    {
     "name": "stdout",
     "output_type": "stream",
     "text": [
      "[1, 2, 3, 4]\n",
      "[1, 2, 3, 4]\n"
     ]
    }
   ],
   "source": [
    "lst1 = [1, 2, 3]\n",
    "lst2 = lst1  # lst2 ссылается на тот же объект, что и lst1\n",
    "lst2.append(4)  # добавляем элемент в lst2\n",
    "print(lst1)  # [1, 2, 3, 4]\n",
    "print(lst2)  # [1, 2, 3, 4]"
   ]
  },
  {
   "cell_type": "markdown",
   "id": "0e0414f4",
   "metadata": {},
   "source": [
    "Неизменяемые объекты: \n",
    "Для неизменяемых объектов, таких как числа и строки, присваивание создает новый объект, и изменения через одну переменную не влияют на другую.\n"
   ]
  },
  {
   "cell_type": "code",
   "execution_count": 26,
   "id": "c6fc1c69",
   "metadata": {
    "scrolled": true
   },
   "outputs": [
    {
     "name": "stdout",
     "output_type": "stream",
     "text": [
      "10\n",
      "5\n"
     ]
    }
   ],
   "source": [
    "x = 5\n",
    "y = x  # y ссылается на тот же объект, что и x\n",
    "x = 10  # теперь x ссылается на новый объект\n",
    "print(x)  # 10\n",
    "print(y)  # 5"
   ]
  },
  {
   "cell_type": "markdown",
   "id": "615cc304",
   "metadata": {},
   "source": [
    "Цепочка присваиваний: Python позволяет присваивать несколько значений нескольким переменным за одну операцию. Это делается с помощью цепочки присваиваний.\n"
   ]
  },
  {
   "cell_type": "code",
   "execution_count": 27,
   "id": "c503f646",
   "metadata": {},
   "outputs": [],
   "source": [
    "a = b = c = 100  # Все переменные a, b и c ссылаются на один и тот же объект (100)"
   ]
  },
  {
   "cell_type": "markdown",
   "id": "3b6271e1",
   "metadata": {},
   "source": [
    "Множественное присваивание: Python поддерживает множественное присваивание, что позволяет присваивать значения нескольким переменным одновременно.\n"
   ]
  },
  {
   "cell_type": "code",
   "execution_count": 28,
   "id": "e6fe5602",
   "metadata": {},
   "outputs": [
    {
     "name": "stdout",
     "output_type": "stream",
     "text": [
      "1\n",
      "2\n",
      "3\n"
     ]
    }
   ],
   "source": [
    "x, y, z = 1, 2, 3\n",
    "print(x)  # 1\n",
    "print(y)  # 2\n",
    "print(z)  # 3"
   ]
  },
  {
   "cell_type": "markdown",
   "id": "5d86211a",
   "metadata": {},
   "source": [
    "- **Важные моменты**:\n",
    "\n",
    "- **Ссылки на объекты**: Присваивание не копирует объект, а создает ссылку на тот же объект в памяти.\n",
    "\n",
    "- **Изменяемость объектов**: Изменяемые объекты (например, списки) могут быть изменены после присваивания, тогда как для неизменяемых объектов (например, строки) присваивание создает новый объект.\n",
    "Таким образом, оператор присваивания в Python — это способ связать переменную с объектом в памяти, и его поведение зависит от того, изменяемый или неизменяемый тип данных вы используете."
   ]
  },
  {
   "cell_type": "markdown",
   "id": "6267f774",
   "metadata": {},
   "source": [
    "## Объясните , что такое глобальные и локальные переменные в Python."
   ]
  },
  {
   "cell_type": "markdown",
   "id": "cec7e75b",
   "metadata": {},
   "source": [
    "- **1. Локальные переменные**\n",
    "Локальная переменная — это переменная, которая объявляется внутри функции или блока кода и доступна только в пределах этой функции или блока.\n",
    "\n",
    "- **Область видимости**: Локальная переменная существует только в момент выполнения функции или блока кода, где она была создана. После завершения работы функции или блока она уничтожается, и ее значение становится недоступным."
   ]
  },
  {
   "cell_type": "code",
   "execution_count": 30,
   "id": "70dab0dc",
   "metadata": {},
   "outputs": [
    {
     "name": "stdout",
     "output_type": "stream",
     "text": [
      "10\n"
     ]
    }
   ],
   "source": [
    "def my_function():\n",
    "    x = 10  # x - локальная переменная\n",
    "    print(x)\n",
    "\n",
    "my_function()  # Выведет: 10\n",
    "# print(x)  # Ошибка: x не определена в глобальной области"
   ]
  },
  {
   "cell_type": "markdown",
   "id": "5be4c4d5",
   "metadata": {},
   "source": [
    "- **2. Глобальные переменные**\n",
    "Глобальная переменная — это переменная, которая объявляется вне всех функций и доступна во всей программе, включая функции и блоки кода.\n",
    "\n",
    "- **Область видимости**: Глобальная переменная существует во всей программе. Она доступна во всех функциях, которые находятся ниже в коде, а также в других частях программы, если не скрыта локальными переменными с таким же именем.\n",
    "\n"
   ]
  },
  {
   "cell_type": "code",
   "execution_count": 31,
   "id": "5376cf19",
   "metadata": {},
   "outputs": [
    {
     "name": "stdout",
     "output_type": "stream",
     "text": [
      "10\n",
      "10\n"
     ]
    }
   ],
   "source": [
    "x = 10  # глобальная переменная\n",
    "\n",
    "def my_function():\n",
    "    print(x)  # доступ к глобальной переменной\n",
    "\n",
    "my_function()  # Выведет: 10\n",
    "print(x)  # Выведет: 10\n"
   ]
  },
  {
   "cell_type": "code",
   "execution_count": 32,
   "id": "74c1b9bc",
   "metadata": {},
   "outputs": [
    {
     "name": "stdout",
     "output_type": "stream",
     "text": [
      "20\n"
     ]
    }
   ],
   "source": [
    "x = 10  # глобальная переменная\n",
    "\n",
    "def my_function():\n",
    "    global x  # говорим, что используем глобальную переменную x\n",
    "    x = 20  # изменяем глобальную переменную\n",
    "\n",
    "my_function()\n",
    "print(x)  # Выведет: 20, так как глобальная переменная была изменена\n"
   ]
  },
  {
   "cell_type": "code",
   "execution_count": 52,
   "id": "78108c1d",
   "metadata": {},
   "outputs": [
    {
     "name": "stdout",
     "output_type": "stream",
     "text": [
      "20\n",
      "10\n"
     ]
    }
   ],
   "source": [
    "x = 10  # глобальная переменная\n",
    "\n",
    "def my_function():\n",
    "    x = 20  # локальная переменная с тем же именем\n",
    "    print(x)  # Выведет: 20, так как локальная переменная перекрывает глобальную\n",
    "\n",
    "my_function()\n",
    "print(x)  # Выведет: 10, так как глобальная переменная не была изменена\n"
   ]
  },
  {
   "cell_type": "markdown",
   "id": "648c1b01",
   "metadata": {},
   "source": [
    "**Ключевые моменты**:\n",
    "- **Локальные переменные** доступны только в пределах функции или блока, где они определены.\n",
    "- **Глобальные переменные** доступны в любой части программы.\n",
    "Для изменения глобальной переменной внутри функции нужно использовать ключевое слово global.\n",
    "Локальные переменные могут перекрывать глобальные, если они имеют одинаковые имена."
   ]
  },
  {
   "cell_type": "markdown",
   "id": "c7be0424",
   "metadata": {},
   "source": [
    "## Как работает оператор = в Python, и чем он отличается от оператора ==?"
   ]
  },
  {
   "cell_type": "markdown",
   "id": "1333e6e2",
   "metadata": {},
   "source": [
    "**Заключение**:\n",
    "- **=** — это оператор присваивания, используемый для назначения значения переменной.\n",
    "- **==** — это оператор сравнения, используемый для проверки, равны ли два значения."
   ]
  },
  {
   "cell_type": "code",
   "execution_count": 35,
   "id": "fa4304b0",
   "metadata": {},
   "outputs": [
    {
     "name": "stdout",
     "output_type": "stream",
     "text": [
      "x и y равны\n",
      "x и y не равны\n"
     ]
    }
   ],
   "source": [
    "x = 10   # Присваиваем значение 10 переменной x\n",
    "y = 10   # Присваиваем значение 10 переменной y\n",
    "\n",
    "# Сравниваем значения x и y\n",
    "if x == y:\n",
    "    print(\"x и y равны\")  # Выведет: x и y равны\n",
    "\n",
    "# Присваиваем переменной x новое значение\n",
    "x = 20\n",
    "if x == y:\n",
    "    print(\"x и y равны\")  # Не выведет, так как x теперь равно 20, а y — 10\n",
    "else:\n",
    "    print(\"x и y не равны\")  # Выведет: x и y не равны\n"
   ]
  },
  {
   "cell_type": "markdown",
   "id": "5f162262",
   "metadata": {},
   "source": [
    "## Что такое строковые литералы , как их создавать и какие особенности у разных типов строк (например, многострочные строки)?"
   ]
  },
  {
   "cell_type": "markdown",
   "id": "ebe4eb54",
   "metadata": {},
   "source": [
    "# Строковые литералы в Python\n",
    "\n",
    "**Строковые литералы** — это последовательности символов, которые записываются непосредственно в исходном коде программы. В Python строки используются для представления текста, и их можно создавать различными способами в зависимости от требуемых особенностей.\n",
    "\n",
    "## 1. Создание строковых литералов\n",
    "\n",
    "В Python строковые литералы могут быть созданы с использованием одинарных (`'`), двойных (`\"`) или тройных кавычек (`'''` или `\"\"\"`). Каждый из этих вариантов имеет свои особенности.\n",
    "\n",
    "### 1.1. Одинарные и двойные кавычки\n",
    "Одинарные и двойные кавычки — это два способа обозначения строк, которые эквивалентны. Вы можете использовать любой из этих вариантов, но часто используют одинарные кавычки, если строка не содержит апострофов, и двойные — если строка содержит апострофы (или наоборот).\n"
   ]
  },
  {
   "cell_type": "code",
   "execution_count": 40,
   "id": "a43898fb",
   "metadata": {},
   "outputs": [],
   "source": [
    "string1 = 'Это строка в одинарных кавычках.'\n",
    "string2 = \"Это строка в двойных кавычках.\""
   ]
  },
  {
   "cell_type": "markdown",
   "id": "43e11df0",
   "metadata": {},
   "source": [
    "## 1.2. Тройные кавычки\n",
    "Тройные кавычки могут быть одинарными (`'''`) или двойными (`\"\"\"`). Они полезны, если строка содержит символы новой строки или если строка сама по себе многократная."
   ]
  },
  {
   "cell_type": "code",
   "execution_count": 41,
   "id": "df8d64c5",
   "metadata": {},
   "outputs": [],
   "source": [
    "string3 = '''Это многострочная строка,\n",
    "которая начинается с новой строки,\n",
    "и продолжается на нескольких строках.'''\n",
    "\n",
    "string4 = \"\"\"Эта строка тоже многострочная,\n",
    "и также может включать символы новой строки.\"\"\""
   ]
  },
  {
   "cell_type": "markdown",
   "id": "327bd9a5",
   "metadata": {},
   "source": [
    "### 2.1. Многострочные строки"
   ]
  },
  {
   "cell_type": "code",
   "execution_count": 42,
   "id": "43fef9f5",
   "metadata": {},
   "outputs": [
    {
     "name": "stdout",
     "output_type": "stream",
     "text": [
      "Это первая строка.\n",
      "Это вторая строка.\n",
      "Это третья строка.\n"
     ]
    }
   ],
   "source": [
    "multiline_string = '''Это первая строка.\n",
    "Это вторая строка.\n",
    "Это третья строка.'''\n",
    "\n",
    "print(multiline_string)\n"
   ]
  },
  {
   "cell_type": "markdown",
   "id": "0dcd6d05",
   "metadata": {},
   "source": [
    "## 2.2. Строки с экранированными символами"
   ]
  },
  {
   "cell_type": "code",
   "execution_count": 43,
   "id": "6374f8ec",
   "metadata": {},
   "outputs": [],
   "source": [
    "escaped_string = \"Это строка с экранированными символами, например, кавычками: \\\" и \\'.\"\n",
    "newline_string = \"Это строка с новой строкой.\\nВот она на новой строке.\"\n",
    "tabbed_string = \"Это строка с табуляцией:\\tТабуляция выполнена.\"\n"
   ]
  },
  {
   "cell_type": "raw",
   "id": "ee738c3d",
   "metadata": {},
   "source": [
    "\\\" — экранированная двойная кавычка.\n",
    "\\' — экранированная одинарная кавычка.\n",
    "\\n — символ новой строки.\n",
    "\\t — символ табуляции."
   ]
  },
  {
   "cell_type": "code",
   "execution_count": 55,
   "id": "950f791f",
   "metadata": {},
   "outputs": [
    {
     "name": "stdout",
     "output_type": "stream",
     "text": [
      "Это строка с табуляцией:\tТабуляция выполнена.\n"
     ]
    }
   ],
   "source": [
    "print(tabbed_string)"
   ]
  },
  {
   "cell_type": "markdown",
   "id": "0a04b77f",
   "metadata": {},
   "source": [
    "## 2.3. Сырые строки (raw strings)"
   ]
  },
  {
   "cell_type": "code",
   "execution_count": 45,
   "id": "4b7990fa",
   "metadata": {},
   "outputs": [
    {
     "name": "stdout",
     "output_type": "stream",
     "text": [
      "C:\\Users\\Name\\Documents\n"
     ]
    }
   ],
   "source": [
    "raw_string = r\"C:\\Users\\Name\\Documents\"  # Путь в Windows, без обработки экранирования\n",
    "print(raw_string)  # Выведет: C:\\Users\\Name\\Documents\n"
   ]
  },
  {
   "cell_type": "markdown",
   "id": "748b8291",
   "metadata": {},
   "source": [
    "## Какие типы данных существуют в Python ? Приведи примеры их использования"
   ]
  },
  {
   "cell_type": "markdown",
   "id": "419e4473",
   "metadata": {},
   "source": [
    "Числовые типы\n",
    "- **int** — целые числа.\n",
    "- **float** — числа с плавающей точкой.\n",
    "- **complex** — комплексные числа."
   ]
  },
  {
   "cell_type": "code",
   "execution_count": 119,
   "id": "6276e902",
   "metadata": {},
   "outputs": [
    {
     "name": "stdout",
     "output_type": "stream",
     "text": [
      "<class 'int'>\n",
      "<class 'float'>\n",
      "<class 'complex'>\n"
     ]
    }
   ],
   "source": [
    "a = 10        # int\n",
    "b = 3.14      # float\n",
    "c = 1 + 2j    # complex\n",
    "print(type(a))  # <class 'int'>\n",
    "print(type(b))  # <class 'float'>\n",
    "print(type(c))  # <class 'complex'>\n"
   ]
  },
  {
   "cell_type": "markdown",
   "id": "5e85a6a2",
   "metadata": {},
   "source": [
    "- **Строки (str)**"
   ]
  },
  {
   "cell_type": "code",
   "execution_count": 120,
   "id": "ae1f2f3f",
   "metadata": {},
   "outputs": [
    {
     "name": "stdout",
     "output_type": "stream",
     "text": [
      "Hello, world!\n",
      "<class 'str'>\n"
     ]
    }
   ],
   "source": [
    "s = \"Hello, world!\"\n",
    "print(s)  # Hello, world!\n",
    "print(type(s))  # <class 'str'>\n"
   ]
  },
  {
   "cell_type": "markdown",
   "id": "9f7a1ea3",
   "metadata": {},
   "source": [
    "- **Списки (list)**"
   ]
  },
  {
   "cell_type": "code",
   "execution_count": 123,
   "id": "d33ea0b1",
   "metadata": {
    "scrolled": true
   },
   "outputs": [
    {
     "name": "stdout",
     "output_type": "stream",
     "text": [
      "[1, 2.5, 'hello', True]\n",
      "<class 'list'>\n"
     ]
    }
   ],
   "source": [
    "lst = [1, 2.5, \"hello\", True]\n",
    "print(lst)  # [1, 2.5, 'hello', True]\n",
    "print(type(lst))  # <class 'list'>\n"
   ]
  },
  {
   "cell_type": "markdown",
   "id": "756b17cd",
   "metadata": {},
   "source": [
    "- **Кортежи (tuple)**"
   ]
  },
  {
   "cell_type": "code",
   "execution_count": 124,
   "id": "3584ca1a",
   "metadata": {},
   "outputs": [
    {
     "name": "stdout",
     "output_type": "stream",
     "text": [
      "(1, 2.5, 'world')\n",
      "<class 'tuple'>\n"
     ]
    }
   ],
   "source": [
    "t = (1, 2.5, \"world\")\n",
    "print(t)  # (1, 2.5, 'world')\n",
    "print(type(t))  # <class 'tuple'>\n"
   ]
  },
  {
   "cell_type": "markdown",
   "id": "217babff",
   "metadata": {},
   "source": [
    "- **Множества (set)**"
   ]
  },
  {
   "cell_type": "code",
   "execution_count": 126,
   "id": "384e0404",
   "metadata": {},
   "outputs": [
    {
     "name": "stdout",
     "output_type": "stream",
     "text": [
      "{1, 2, 3, 4}\n",
      "<class 'set'>\n"
     ]
    }
   ],
   "source": [
    "st = {1, 2, 3, 3, 4}\n",
    "print(st)  # {1, 2, 3, 4}\n",
    "print(type(st))  # <class 'set'>\n"
   ]
  },
  {
   "cell_type": "markdown",
   "id": "2307ab5a",
   "metadata": {},
   "source": [
    "- **Словари (dict)**"
   ]
  },
  {
   "cell_type": "code",
   "execution_count": 128,
   "id": "1cd86582",
   "metadata": {},
   "outputs": [
    {
     "name": "stdout",
     "output_type": "stream",
     "text": [
      "{'name': 'Alice', 'age': 25}\n",
      "<class 'dict'>\n"
     ]
    }
   ],
   "source": [
    "d = {\"name\": \"Alice\", \"age\": 25}\n",
    "print(d)  # {'name': 'Alice', 'age': 25}\n",
    "print(type(d))  # <class 'dict'>\n"
   ]
  },
  {
   "cell_type": "markdown",
   "id": "ec18c50f",
   "metadata": {},
   "source": [
    "- **Булевы значения (bool)**"
   ]
  },
  {
   "cell_type": "code",
   "execution_count": 129,
   "id": "e36e7698",
   "metadata": {},
   "outputs": [
    {
     "name": "stdout",
     "output_type": "stream",
     "text": [
      "<class 'bool'>\n"
     ]
    }
   ],
   "source": [
    "x = True\n",
    "y = False\n",
    "print(type(x))  # <class 'bool'>\n"
   ]
  },
  {
   "cell_type": "markdown",
   "id": "45bb528b",
   "metadata": {},
   "source": [
    "- **NoneType**\n",
    "Это специальный тип, который используется для обозначения отсутствия значения.\n"
   ]
  },
  {
   "cell_type": "code",
   "execution_count": 131,
   "id": "45938bb3",
   "metadata": {},
   "outputs": [
    {
     "name": "stdout",
     "output_type": "stream",
     "text": [
      "<class 'NoneType'>\n"
     ]
    }
   ],
   "source": [
    "n = None\n",
    "print(type(n))  # <class 'NoneType'>\n"
   ]
  },
  {
   "cell_type": "markdown",
   "id": "50470d4c",
   "metadata": {},
   "source": [
    "- **Файлы** Тип данных для работы с файлами в Python."
   ]
  },
  {
   "cell_type": "code",
   "execution_count": 133,
   "id": "9336cbed",
   "metadata": {},
   "outputs": [],
   "source": [
    "f = open(\"example.txt\", \"w\")\n",
    "f.write(\"Hello, file!\")\n",
    "f.close()\n"
   ]
  },
  {
   "cell_type": "markdown",
   "id": "efc025c5",
   "metadata": {},
   "source": [
    "## Как работают индексы в строках и списках в Python?"
   ]
  },
  {
   "cell_type": "markdown",
   "id": "a5db3a92",
   "metadata": {},
   "source": [
    "В Python индексы в строках и списках используются для доступа к отдельным элементам этих коллекций.\n",
    "Индексация начинается с 0, что означает, что первый элемент находится на позиции 0, второй — на позиции 1,\n",
    "и так далее. Также возможна отрицательная индексация, которая позволяет обратиться к элементам с конца коллекции.\n",
    "\n"
   ]
  },
  {
   "cell_type": "markdown",
   "id": "cfcc8567",
   "metadata": {},
   "source": [
    "Положительная индексация: Индексация начинается с 0 для первого символа строки."
   ]
  },
  {
   "cell_type": "code",
   "execution_count": 134,
   "id": "81079821",
   "metadata": {},
   "outputs": [
    {
     "name": "stdout",
     "output_type": "stream",
     "text": [
      "H\n",
      "e\n",
      "o\n"
     ]
    }
   ],
   "source": [
    "s = \"Hello\"\n",
    "print(s[0])  # H\n",
    "print(s[1])  # e\n",
    "print(s[4])  # o"
   ]
  },
  {
   "cell_type": "markdown",
   "id": "6dfd22a6",
   "metadata": {},
   "source": [
    "Отрицательная индексация: Отрицательные индексы начинаются с -1 для последнего символа и идут к первому символу строки."
   ]
  },
  {
   "cell_type": "code",
   "execution_count": 135,
   "id": "312759df",
   "metadata": {},
   "outputs": [
    {
     "name": "stdout",
     "output_type": "stream",
     "text": [
      "o\n",
      "l\n",
      "H\n"
     ]
    }
   ],
   "source": [
    "s = \"Hello\"\n",
    "print(s[-1])  # o\n",
    "print(s[-2])  # l\n",
    "print(s[-5])  # H"
   ]
  },
  {
   "cell_type": "markdown",
   "id": "12a105bc",
   "metadata": {},
   "source": [
    "Использование срезов (slicing): Можно извлечь подстроку, указывая диапазон индексов.\n",
    "\n"
   ]
  },
  {
   "cell_type": "code",
   "execution_count": 136,
   "id": "688d2041",
   "metadata": {},
   "outputs": [
    {
     "name": "stdout",
     "output_type": "stream",
     "text": [
      "ell\n",
      "Hel\n",
      "llo\n"
     ]
    }
   ],
   "source": [
    "s = \"Hello\"\n",
    "print(s[1:4])  # ell (индексы от 1 до 3)\n",
    "print(s[:3])   # Hel (от начала до индекса 2)\n",
    "print(s[2:])   # llo (от индекса 2 до конца)"
   ]
  },
  {
   "cell_type": "markdown",
   "id": "64d054a2",
   "metadata": {},
   "source": [
    "Индексация в списках\n",
    "Списки в Python работают аналогично строкам: они являются упорядоченными коллекциями, и элементы можно получить с помощью индексов.\n"
   ]
  },
  {
   "cell_type": "code",
   "execution_count": 137,
   "id": "9d2006d4",
   "metadata": {},
   "outputs": [
    {
     "name": "stdout",
     "output_type": "stream",
     "text": [
      "10\n",
      "30\n",
      "50\n"
     ]
    }
   ],
   "source": [
    "#Положительная индексация: Индексация элементов списка начинается с 0.\n",
    "\n",
    "\n",
    "lst = [10, 20, 30, 40, 50]\n",
    "print(lst[0])  # 10\n",
    "print(lst[2])  # 30\n",
    "print(lst[4])  # 50"
   ]
  },
  {
   "cell_type": "code",
   "execution_count": 138,
   "id": "7d6b101e",
   "metadata": {},
   "outputs": [
    {
     "name": "stdout",
     "output_type": "stream",
     "text": [
      "50\n",
      "40\n",
      "10\n"
     ]
    }
   ],
   "source": [
    "#Отрицательная индексация: С помощью отрицательных индексов можно обратиться к элементам списка с конца.\n",
    "\n",
    "\n",
    "lst = [10, 20, 30, 40, 50]\n",
    "print(lst[-1])  # 50\n",
    "print(lst[-2])  # 40\n",
    "print(lst[-5])  # 10"
   ]
  },
  {
   "cell_type": "code",
   "execution_count": 139,
   "id": "c8e0894e",
   "metadata": {},
   "outputs": [
    {
     "name": "stdout",
     "output_type": "stream",
     "text": [
      "[20, 30, 40]\n",
      "[10, 20, 30]\n",
      "[30, 40, 50]\n"
     ]
    }
   ],
   "source": [
    "#Использование срезов (slicing): Как и для строк, можно получить часть списка, указав диапазон индексов.\n",
    "\n",
    "lst = [10, 20, 30, 40, 50]\n",
    "print(lst[1:4])  # [20, 30, 40] (от индекса 1 до 3)\n",
    "print(lst[:3])   # [10, 20, 30] (от начала до индекса 2)\n",
    "print(lst[2:])   # [30, 40, 50] (от индекса 2 до конца)\n"
   ]
  },
  {
   "cell_type": "markdown",
   "id": "59197ccb",
   "metadata": {},
   "source": [
    "## В чем отличие между del и remove при работе со списками?"
   ]
  },
  {
   "cell_type": "markdown",
   "id": "4c370966",
   "metadata": {},
   "source": [
    "В Python, как del, так и remove используются для удаления элементов из списка, но они работают по-разному. Вот основные отличия между ними:"
   ]
  },
  {
   "cell_type": "markdown",
   "id": "9886c201",
   "metadata": {},
   "source": [
    "- **1. del** :\n",
    "Удаляет элемент по индексу.\n",
    "Может удалять как один элемент по индексу, так и срез (подсписок) из списка.\n",
    "Если указать неверный индекс, произойдёт ошибка IndexError.\n",
    "Операция del не возвращает удалённый элемент."
   ]
  },
  {
   "cell_type": "code",
   "execution_count": 140,
   "id": "b79e6c91",
   "metadata": {},
   "outputs": [
    {
     "name": "stdout",
     "output_type": "stream",
     "text": [
      "[10, 20, 40, 50]\n",
      "[10, 50]\n"
     ]
    }
   ],
   "source": [
    "lst = [10, 20, 30, 40, 50]\n",
    "\n",
    "# Удаление по индексу\n",
    "del lst[2]  # Удаляется элемент с индексом 2, то есть 30\n",
    "print(lst)  # [10, 20, 40, 50]\n",
    "\n",
    "# Удаление среза\n",
    "del lst[1:3]  # Удаляется подсписок с индексами 1 и 2 (элементы 20 и 40)\n",
    "print(lst)  # [10, 50]\n"
   ]
  },
  {
   "cell_type": "code",
   "execution_count": 141,
   "id": "169dff33",
   "metadata": {},
   "outputs": [
    {
     "ename": "IndexError",
     "evalue": "list assignment index out of range",
     "output_type": "error",
     "traceback": [
      "\u001b[0;31m---------------------------------------------------------------------------\u001b[0m",
      "\u001b[0;31mIndexError\u001b[0m                                Traceback (most recent call last)",
      "Cell \u001b[0;32mIn[141], line 1\u001b[0m\n\u001b[0;32m----> 1\u001b[0m \u001b[38;5;28;01mdel\u001b[39;00m lst[\u001b[38;5;241m10\u001b[39m]  \u001b[38;5;66;03m# IndexError, так как индекса 10 в списке нет\u001b[39;00m\n",
      "\u001b[0;31mIndexError\u001b[0m: list assignment index out of range"
     ]
    }
   ],
   "source": [
    "del lst[10]  # IndexError, так как индекса 10 в списке нет"
   ]
  },
  {
   "cell_type": "markdown",
   "id": "a0e8d3b8",
   "metadata": {},
   "source": [
    "- **2. remove**:\n",
    "Удаляет первый найденный элемент по значению.\n",
    "Если элемент не найден, возникает ошибка ValueError.\n",
    "Операция remove возвращает ничего (None), а не удалённый элемент.\n",
    "Можно использовать, если вы знаете значение элемента, а не его индекс.\n"
   ]
  },
  {
   "cell_type": "code",
   "execution_count": 142,
   "id": "9793a379",
   "metadata": {},
   "outputs": [
    {
     "name": "stdout",
     "output_type": "stream",
     "text": [
      "[10, 20, 40, 50]\n"
     ]
    },
    {
     "ename": "ValueError",
     "evalue": "list.remove(x): x not in list",
     "output_type": "error",
     "traceback": [
      "\u001b[0;31m---------------------------------------------------------------------------\u001b[0m",
      "\u001b[0;31mValueError\u001b[0m                                Traceback (most recent call last)",
      "Cell \u001b[0;32mIn[142], line 8\u001b[0m\n\u001b[1;32m      5\u001b[0m \u001b[38;5;28mprint\u001b[39m(lst)  \u001b[38;5;66;03m# [10, 20, 40, 50]\u001b[39;00m\n\u001b[1;32m      7\u001b[0m \u001b[38;5;66;03m# Попытка удалить отсутствующий элемент\u001b[39;00m\n\u001b[0;32m----> 8\u001b[0m \u001b[43mlst\u001b[49m\u001b[38;5;241;43m.\u001b[39;49m\u001b[43mremove\u001b[49m\u001b[43m(\u001b[49m\u001b[38;5;241;43m100\u001b[39;49m\u001b[43m)\u001b[49m  \u001b[38;5;66;03m# ValueError: list.remove(x): x not in list\u001b[39;00m\n",
      "\u001b[0;31mValueError\u001b[0m: list.remove(x): x not in list"
     ]
    }
   ],
   "source": [
    "lst = [10, 20, 30, 40, 50]\n",
    "\n",
    "# Удаление по значению\n",
    "lst.remove(30)  # Удаляется первое вхождение значения 30\n",
    "print(lst)  # [10, 20, 40, 50]\n",
    "\n",
    "# Попытка удалить отсутствующий элемент\n",
    "lst.remove(100)  # ValueError: list.remove(x): x not in list\n"
   ]
  },
  {
   "cell_type": "raw",
   "id": "b2437cce",
   "metadata": {},
   "source": [
    "Основные различия:\n",
    "Удаление по индексу или значению:\n",
    "\n",
    "del используется для удаления элементов по индексу или среза.\n",
    "remove удаляет элемент по значению.\n",
    "Поведение при отсутствии элемента:\n",
    "\n",
    "Если вы пытаетесь удалить элемент с помощью del, но индекс выходит за пределы списка, возникает ошибка IndexError.\n",
    "Если вы пытаетесь удалить элемент с помощью remove, но такого элемента нет в списке, возникает ошибка ValueError.\n",
    "Возвращаемое значение:\n",
    "\n",
    "Операция del не возвращает ничего.\n",
    "Операция remove также не возвращает ничего, но удаляет первый элемент с заданным значением."
   ]
  },
  {
   "cell_type": "code",
   "execution_count": 143,
   "id": "71c35604",
   "metadata": {},
   "outputs": [
    {
     "name": "stdout",
     "output_type": "stream",
     "text": [
      "[1, 2, 4, 5, 3, 6]\n",
      "[1, 2, 4, 5, 6]\n"
     ]
    }
   ],
   "source": [
    "lst = [1, 2, 3, 4, 5, 3, 6]\n",
    "\n",
    "# Используем del для удаления по индексу\n",
    "del lst[2]  # Удаляется элемент с индексом 2 (значение 3)\n",
    "print(lst)  # [1, 2, 4, 5, 3, 6]\n",
    "\n",
    "# Используем remove для удаления по значению\n",
    "lst.remove(3)  # Удаляется первое вхождение 3\n",
    "print(lst)  # [1, 2, 4, 5, 6]\n",
    "\n",
    "# Ошибка при попытке удалить несуществующий элемент\n",
    "# lst.remove(10)  # ValueError: list.remove(x): x not in list\n"
   ]
  },
  {
   "cell_type": "code",
   "execution_count": null,
   "id": "8a9e3684",
   "metadata": {},
   "outputs": [],
   "source": []
  }
 ],
 "metadata": {
  "kernelspec": {
   "display_name": "Python 3 (ipykernel)",
   "language": "python",
   "name": "python3"
  },
  "language_info": {
   "codemirror_mode": {
    "name": "ipython",
    "version": 3
   },
   "file_extension": ".py",
   "mimetype": "text/x-python",
   "name": "python",
   "nbconvert_exporter": "python",
   "pygments_lexer": "ipython3",
   "version": "3.9.21"
  }
 },
 "nbformat": 4,
 "nbformat_minor": 5
}
